{
 "cells": [
  {
   "cell_type": "code",
   "execution_count": 10,
   "id": "8e6dc23e",
   "metadata": {},
   "outputs": [],
   "source": [
    "import cv2\n",
    "import numpy as np\n",
    "import os\n",
    "from matplotlib import pyplot as plt\n",
    "import time \n",
    "import gtts \n",
    "import playsound\n",
    "import mediapipe as mp\n",
    "\n"
   ]
  },
  {
   "cell_type": "code",
   "execution_count": 11,
   "id": "1e41acc9",
   "metadata": {},
   "outputs": [],
   "source": [
    "mp_holistic = mp.solutions.holistic\n",
    "mp_drawing = mp.solutions.drawing_utils\n"
   ]
  },
  {
   "cell_type": "code",
   "execution_count": 12,
   "id": "c9b0c4f5",
   "metadata": {},
   "outputs": [],
   "source": [
    "def mediapipe_detect(img , model):\n",
    "    img = cv2.cvtColor(img , cv2.COLOR_BGR2RGB)\n",
    "    img.flags.writeable = False\n",
    "    results = model.process(img)\n",
    "    img.flags.writeable = True\n",
    "    img = cv2.cvtColor(img , cv2.COLOR_RGB2BGR)\n",
    "    return img , results"
   ]
  },
  {
   "cell_type": "code",
   "execution_count": 13,
   "id": "419d4587",
   "metadata": {},
   "outputs": [],
   "source": [
    "def draw_new_landmarks(img , model):\n",
    "    mp_drawing.draw_landmarks(img , results.pose_landmarks ,mp_holistic.POSE_CONNECTIONS  , mp_drawing.DrawingSpec(color=(80,22,10) , thickness=2 , circle_radius=4) ,mp_drawing.DrawingSpec(color=(80,44,121) , thickness=2 , circle_radius=2))\n",
    "    mp_drawing.draw_landmarks(img , results.left_hand_landmarks ,mp_holistic.HAND_CONNECTIONS  , mp_drawing.DrawingSpec(color=(121,22,76) , thickness=2 , circle_radius=4) ,mp_drawing.DrawingSpec(color=(121,44,250) , thickness=2 , circle_radius=2))\n",
    "    mp_drawing.draw_landmarks(img , results.right_hand_landmarks ,mp_holistic.HAND_CONNECTIONS  , mp_drawing.DrawingSpec(color=(245,117,66) , thickness=2 , circle_radius=4) ,mp_drawing.DrawingSpec(color=(245,66,230) , thickness=2 , circle_radius=2))\n",
    "    "
   ]
  },
  {
   "cell_type": "code",
   "execution_count": null,
   "id": "0bef957b",
   "metadata": {},
   "outputs": [],
   "source": []
  },
  {
   "cell_type": "code",
   "execution_count": 14,
   "id": "4bd5bcbc",
   "metadata": {},
   "outputs": [],
   "source": [
    "def extract_keypoints(results):\n",
    "    pose = np.array([[res.x , res.y , res.z , res.visibility] for res in results.pose_landmarks.landmark]).flatten() if results.pose_landmarks else np.zeros(33*4)\n",
    "    lh = np.array([[res.x , res.y , res.z] for res in results.left_hand_landmarks.landmark]).flatten() if results.left_hand_landmarks else np.zeros(21*3)\n",
    "    rh = np.array([[res.x , res.y , res.z] for res in results.right_hand_landmarks.landmark]).flatten() if results.right_hand_landmarks else np.zeros(21*3)\n",
    "    return np.concatenate([pose,lh,rh])"
   ]
  },
  {
   "cell_type": "code",
   "execution_count": 15,
   "id": "ba278864",
   "metadata": {},
   "outputs": [],
   "source": [
    "DATA_PATH = os.path.join('Data_New')\n",
    "\n",
    "actions = np.array(['where is my book'])\n",
    "no_sequences=60\n",
    "sequence_length=30"
   ]
  },
  {
   "cell_type": "code",
   "execution_count": 16,
   "id": "0885578a",
   "metadata": {},
   "outputs": [],
   "source": [
    "for action in actions:\n",
    "    for sequence in range(no_sequences):\n",
    "        try:\n",
    "            os.makedirs(os.path.join(DATA_PATH , action , str(sequence)))\n",
    "        except:\n",
    "            pass"
   ]
  },
  {
   "cell_type": "code",
   "execution_count": 17,
   "id": "2cd24967",
   "metadata": {
    "scrolled": true
   },
   "outputs": [],
   "source": [
    "cap = cv2.VideoCapture(1)\n",
    "# Set mediapipe model \n",
    "with mp_holistic.Holistic(min_detection_confidence=0.5, min_tracking_confidence=0.5) as holistic:\n",
    "    \n",
    "   \n",
    "      for action in actions:\n",
    "        for sequence in range(no_sequences):\n",
    "            for frame_num in range(sequence_length):\n",
    "\n",
    "                ret, frame = cap.read()\n",
    "\n",
    "                image, results = mediapipe_detect(frame, holistic)\n",
    "                draw_new_landmarks(image, results)\n",
    "                \n",
    "                if frame_num == 0: \n",
    "                    cv2.putText(image, 'STOP', (120,200), \n",
    "                               cv2.FONT_HERSHEY_SIMPLEX, 1, (0,255, 0), 4, cv2.LINE_AA)\n",
    "                    cv2.putText(image, 'Collecting frames for {} Video Number {}'.format(action, sequence), (15,12), \n",
    "                               cv2.FONT_HERSHEY_SIMPLEX, 0.5, (0, 0, 255), 1, cv2.LINE_AA)\n",
    "                  \n",
    "                    cv2.imshow('OpenCV Feed', image)\n",
    "                    cv2.waitKey(2000)\n",
    "                else: \n",
    "                    cv2.putText(image, 'Collecting frames for {} Video Number {}'.format(action, sequence), (15,12), \n",
    "                               cv2.FONT_HERSHEY_SIMPLEX, 0.5, (0, 0, 255), 1, cv2.LINE_AA)\n",
    "                   \n",
    "                    cv2.imshow('OpenCV Feed', image)\n",
    "                \n",
    "              \n",
    "                keypoints = extract_keypoints(results)\n",
    "                npy_path = os.path.join(DATA_PATH, action, str(sequence), str(frame_num))\n",
    "                np.save(npy_path, keypoints)\n",
    "\n",
    "                if cv2.waitKey(10) & 0xFF == ord('q'):\n",
    "                    break\n",
    "                    \n",
    "cap.release()\n",
    "cv2.destroyAllWindows()"
   ]
  },
  {
   "cell_type": "code",
   "execution_count": 18,
   "id": "cee01c70",
   "metadata": {},
   "outputs": [],
   "source": [
    "cap.release()\n",
    "cv2.destroyAllWindows()"
   ]
  }
 ],
 "metadata": {
  "kernelspec": {
   "display_name": "Python 3 (ipykernel)",
   "language": "python",
   "name": "python3"
  },
  "language_info": {
   "codemirror_mode": {
    "name": "ipython",
    "version": 3
   },
   "file_extension": ".py",
   "mimetype": "text/x-python",
   "name": "python",
   "nbconvert_exporter": "python",
   "pygments_lexer": "ipython3",
   "version": "3.9.12"
  }
 },
 "nbformat": 4,
 "nbformat_minor": 5
}
